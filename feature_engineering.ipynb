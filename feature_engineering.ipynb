{
 "cells": [
  {
   "cell_type": "code",
   "execution_count": 1,
   "metadata": {},
   "outputs": [],
   "source": [
    "import pandas as pd \n",
    "from core.organize_data import organize_data\n",
    "from core.dataset import time_diff\n",
    "from core.dataset import create_time_series_dataset,create_ts_dataset\n",
    "%load_ext autoreload \n",
    "%autoreload 2"
   ]
  },
  {
   "cell_type": "code",
   "execution_count": 2,
   "metadata": {},
   "outputs": [
    {
     "name": "stderr",
     "output_type": "stream",
     "text": [
      "/Users/scafartogregory/Desktop/PDM/core/organize_data.py:167: SettingWithCopyWarning: \n",
      "A value is trying to be set on a copy of a slice from a DataFrame.\n",
      "Try using .loc[row_indexer,col_indexer] = value instead\n",
      "\n",
      "See the caveats in the documentation: https://pandas.pydata.org/pandas-docs/stable/user_guide/indexing.html#returning-a-view-versus-a-copy\n",
      "  df_data_test[\"predictive_machine_status\"] = df_data_test.apply(\n",
      "/Users/scafartogregory/Desktop/PDM/core/organize_data.py:186: SettingWithCopyWarning: \n",
      "A value is trying to be set on a copy of a slice from a DataFrame.\n",
      "Try using .loc[row_indexer,col_indexer] = value instead\n",
      "\n",
      "See the caveats in the documentation: https://pandas.pydata.org/pandas-docs/stable/user_guide/indexing.html#returning-a-view-versus-a-copy\n",
      "  df_data_test[\"predictive_machine_status_label\"] = df_data_test[\"predictive_machine_status\"].map(\n"
     ]
    }
   ],
   "source": [
    "df_data = pd.read_csv(\"Data/DATA.csv\")\n",
    "df_data_train, df_data_test = organize_data(df_data)"
   ]
  },
  {
   "cell_type": "code",
   "execution_count": 3,
   "metadata": {},
   "outputs": [
    {
     "name": "stderr",
     "output_type": "stream",
     "text": [
      "/var/folders/g9/w9q193415dqd_3g5fx11gt_40000gn/T/ipykernel_30905/1731967731.py:1: FutureWarning: DataFrame.interpolate with object dtype is deprecated and will raise in a future version. Call obj.infer_objects(copy=False) before interpolating instead.\n",
      "  df_data_train = df_data_train.interpolate(method=\"linear\")\n",
      "/var/folders/g9/w9q193415dqd_3g5fx11gt_40000gn/T/ipykernel_30905/1731967731.py:2: FutureWarning: DataFrame.interpolate with object dtype is deprecated and will raise in a future version. Call obj.infer_objects(copy=False) before interpolating instead.\n",
      "  df_data_test = df_data_test.interpolate(method=\"linear\")\n"
     ]
    }
   ],
   "source": [
    "df_data_train = df_data_train.interpolate(method=\"linear\")\n",
    "df_data_test = df_data_test.interpolate(method=\"linear\")"
   ]
  },
  {
   "cell_type": "code",
   "execution_count": 4,
   "metadata": {},
   "outputs": [],
   "source": [
    "df_data_train = time_diff(df_data_train)\n",
    "df_data_test = time_diff(df_data_test)"
   ]
  },
  {
   "cell_type": "code",
   "execution_count": 5,
   "metadata": {},
   "outputs": [
    {
     "name": "stderr",
     "output_type": "stream",
     "text": [
      "100%|██████████| 210739/210739 [00:08<00:00, 23843.47it/s]\n"
     ]
    }
   ],
   "source": [
    "time_steps = 60\n",
    "df_data_train = create_time_series_dataset(df_data_train, time_steps)"
   ]
  },
  {
   "cell_type": "code",
   "execution_count": 6,
   "metadata": {},
   "outputs": [],
   "source": [
    "from imblearn.over_sampling import SMOTE\n",
    "\n",
    "smote = SMOTE(random_state=42)\n",
    "X_resampled, y_resampled = smote.fit_resample(df_data_train[[x for x in df_data_train.keys() if \"sensor\" in x ]], df_data_train[\"predictive_machine_status_label\"])"
   ]
  },
  {
   "cell_type": "code",
   "execution_count": 7,
   "metadata": {},
   "outputs": [],
   "source": [
    "df_resampled = pd.DataFrame(X_resampled,columns=[x for x in df_data.keys() if \"sensor\" in x ])\n",
    "df_resampled[\"predictive_machine_status_label\"] = y_resampled"
   ]
  },
  {
   "cell_type": "code",
   "execution_count": 8,
   "metadata": {},
   "outputs": [
    {
     "name": "stderr",
     "output_type": "stream",
     "text": [
      "  0%|          | 0/3512 [00:00<?, ?it/s]"
     ]
    },
    {
     "name": "stderr",
     "output_type": "stream",
     "text": [
      "100%|██████████| 3512/3512 [00:02<00:00, 1202.79it/s]\n"
     ]
    }
   ],
   "source": [
    "X,y = create_ts_dataset(df_data_train,time_steps)"
   ]
  },
  {
   "cell_type": "code",
   "execution_count": 9,
   "metadata": {},
   "outputs": [],
   "source": [
    "import torch \n",
    "import torch.nn as nn \n",
    "X = torch.stack(X)\n",
    "y = torch.stack(y)"
   ]
  },
  {
   "cell_type": "code",
   "execution_count": 10,
   "metadata": {},
   "outputs": [],
   "source": [
    "from core.lstm_utils import MultivariateRNNModel,generate_triplets\n",
    "from core.dataset import  CustomDataset"
   ]
  },
  {
   "cell_type": "code",
   "execution_count": 11,
   "metadata": {},
   "outputs": [],
   "source": [
    "data = CustomDataset(X,y)"
   ]
  },
  {
   "cell_type": "code",
   "execution_count": 12,
   "metadata": {},
   "outputs": [],
   "source": [
    "from torch.utils.data import DataLoader\n",
    "\n",
    "train_dataloader = DataLoader(data, batch_size=256, shuffle=True)"
   ]
  },
  {
   "cell_type": "code",
   "execution_count": 13,
   "metadata": {},
   "outputs": [],
   "source": [
    "triplets = generate_triplets(X,y)"
   ]
  },
  {
   "cell_type": "code",
   "execution_count": 14,
   "metadata": {},
   "outputs": [],
   "source": [
    "import torch.optim as optim\n",
    "\n",
    "input_dim = X.shape[2]        \n",
    "hidden_size = 64       \n",
    "num_layers = 3         \n",
    "embedding_size = 125   \n",
    "margin = 5          \n",
    "\n",
    "model = MultivariateRNNModel(input_dim, hidden_size, num_layers, 3, dropout=0.1).to(\"mps\")\n",
    "optimizer = optim.Adam(model.parameters(), lr=0.001)"
   ]
  },
  {
   "cell_type": "code",
   "execution_count": 15,
   "metadata": {},
   "outputs": [
    {
     "name": "stderr",
     "output_type": "stream",
     "text": [
      "  0%|          | 0/3351 [00:00<?, ?it/s]"
     ]
    },
    {
     "name": "stderr",
     "output_type": "stream",
     "text": [
      " 24%|██▍       | 807/3351 [00:16<00:50, 50.01it/s]"
     ]
    }
   ],
   "source": [
    "from core.lstm_utils import train_contrastive\n",
    "\n",
    "model =  train_contrastive(\n",
    "    model, optimizer, triplets, epochs=3, device=\"mps\",margin=margin\n",
    ")"
   ]
  },
  {
   "cell_type": "code",
   "execution_count": null,
   "metadata": {},
   "outputs": [],
   "source": [
    "model.eval()\n",
    "emb= model(X.to(\"mps\"))"
   ]
  },
  {
   "cell_type": "code",
   "execution_count": null,
   "metadata": {},
   "outputs": [
    {
     "name": "stderr",
     "output_type": "stream",
     "text": [
      "OMP: Info #276: omp_set_nested routine deprecated, please use omp_set_max_active_levels instead.\n"
     ]
    }
   ],
   "source": [
    "import umap \n",
    "umap_model= umap.UMAP(n_components=3)\n",
    "umap_emb = umap_model.fit_transform(emb.detach().cpu().numpy() )"
   ]
  },
  {
   "cell_type": "code",
   "execution_count": null,
   "metadata": {},
   "outputs": [],
   "source": [
    "label_mapping = {\"DANGER_ZONE\": 0, \"NORMAL\": 1, \"MAINTENANCE\": 2, \"BROKEN\": 3}"
   ]
  },
  {
   "cell_type": "code",
   "execution_count": null,
   "metadata": {},
   "outputs": [],
   "source": [
    "label_mapping_inv = {v:k for k,v in label_mapping.items()}"
   ]
  },
  {
   "cell_type": "code",
   "execution_count": null,
   "metadata": {},
   "outputs": [
    {
     "data": {
      "text/plain": [
       "<matplotlib.legend.Legend at 0x41ef6eb70>"
      ]
     },
     "execution_count": 20,
     "metadata": {},
     "output_type": "execute_result"
    },
    {
     "data": {
      "image/png": "[encoded data removed]",
      "text/plain": [
       "<Figure size 640x480 with 1 Axes>"
      ]
     },
     "metadata": {},
     "output_type": "display_data"
    }
   ],
   "source": [
    "import matplotlib.pyplot as plt \n",
    "import numpy as np \n",
    "\n",
    "color_dic = {3:\"black\",\n",
    "2:\"green\",\n",
    "1:\"blue\",\n",
    "0:\"orange\",\n",
    "\"URGENT_DANGER_ZONE\":\"red\"}\n",
    "\n",
    "\n",
    "\n",
    "unique_labels = np.unique(y)\n",
    "\n",
    "\n",
    "\n",
    "for label in unique_labels:\n",
    "    label = int(label)\n",
    "\n",
    "\n",
    "    idx = np.where(y == label)\n",
    "\n",
    "    \n",
    "\n",
    "    points = umap_emb[idx]\n",
    "\n",
    "    plt.scatter(points[:, 0], points[:, 1], color=color_dic[label],s=1,label=label_mapping_inv[label])\n",
    "    plt.xlabel(\"Umap dim1\")\n",
    "    plt.xlabel(\"Umap dim2\")\n",
    "plt.title(\"Umap embedding of LSTM embeddings\")\n",
    "plt.legend()"
   ]
  },
  {
   "cell_type": "code",
   "execution_count": null,
   "metadata": {},
   "outputs": [],
   "source": []
  }
 ],
 "metadata": {
  "kernelspec": {
   "display_name": "env_pdfm",
   "language": "python",
   "name": "python3"
  },
  "language_info": {
   "codemirror_mode": {
    "name": "ipython",
    "version": 3
   },
   "file_extension": ".py",
   "mimetype": "text/x-python",
   "name": "python",
   "nbconvert_exporter": "python",
   "pygments_lexer": "ipython3",
   "version": "3.12.4"
  }
 },
 "nbformat": 4,
 "nbformat_minor": 2
}
